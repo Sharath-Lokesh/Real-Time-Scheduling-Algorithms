{
 "cells": [
  {
   "cell_type": "markdown",
   "id": "c54596eb",
   "metadata": {},
   "source": [
    "### Rate Monotonic Scheduling (RMS) - Fixed Priority Scheduling Algorithm\n",
    "\n",
    "- Selection Function: \n",
    "    - Shortest Period => Highest Priority\n",
    "- Decisiion Mode:\n",
    "    - Preemtive\n",
    "- Task properties:\n",
    "    - Periodic (T)\n",
    "    - Deadline (D); D = T\n",
    "    - Execution Time (C), C <= D\n",
    "    - Tasks are independent\n",
    "    \n",
    "### Schedulability Tests\n",
    "- Necessary condition:\n",
    "    - sum(Ci/Ti)<=1\n",
    "- Sufficient condition\n",
    "    - sum(Ci/Ti) <= n (2^(1/n)-1), where n: # of tasks\n",
    "\n",
    "#### Note : If the sufficent condition fails => the given task set may or may not be schedulable.  "
   ]
  },
  {
   "cell_type": "markdown",
   "id": "1523b834",
   "metadata": {},
   "source": [
    "#### Author: Sharath Lokesh"
   ]
  },
  {
   "cell_type": "code",
   "execution_count": 1,
   "id": "c4991aea",
   "metadata": {},
   "outputs": [],
   "source": [
    "import matplotlib.pyplot as plt\n",
    "from math import gcd\n",
    "import pandas as pd"
   ]
  },
  {
   "cell_type": "code",
   "execution_count": 2,
   "id": "5da3de06",
   "metadata": {},
   "outputs": [],
   "source": [
    "def compute_hyper_period(T):\n",
    "    hyper_period = 1\n",
    "    for t in T:\n",
    "        hyper_period = (hyper_period * t) // gcd(hyper_period, t) #compute LCM\n",
    "    print(\"\\nHyper-Period:\", hyper_period)\n",
    "    return hyper_period"
   ]
  },
  {
   "cell_type": "code",
   "execution_count": 3,
   "id": "e63caf8c",
   "metadata": {},
   "outputs": [],
   "source": [
    "def schedulability_test(C, T):\n",
    "    \n",
    "    ret_val = True\n",
    "    utilization = 0\n",
    "    for c, t in zip(C, T):\n",
    "        utilization = utilization + (c/t)\n",
    "        \n",
    "    print(\"Utilization: \", round(utilization,4))\n",
    "    if (utilization > 1):\n",
    "        ret_val = False\n",
    "        print(\"Utilization is > 1. Therefore the task set is not schedulable.\\n\")\n",
    "    suff_cond = len(C) * (2**(1/len(C)) - 1)\n",
    "    print(\"Sufficent condition value: \", round(suff_cond,4))\n",
    "    if (utilization > suff_cond):\n",
    "        print (\"Utilization > Sufficient contdition value - Task set may or may not be scheduled without missing the deadline.\\n\")\n",
    "    else:\n",
    "        print(\"Sufficient contdition passed: Task set is schedulable.\\n\")\n",
    "    return ret_val"
   ]
  },
  {
   "cell_type": "code",
   "execution_count": 4,
   "id": "640644c8",
   "metadata": {},
   "outputs": [],
   "source": [
    "def prepare_tasket(C, T):\n",
    "    # create a sample dataframe\n",
    "    task_names = [\"T\"+str(i) for i in range(len(C))]\n",
    "    priority = [i+1 for i in range(len(C))]\n",
    "\n",
    "    df = pd.DataFrame({\n",
    "        'Task-Name': task_names,\n",
    "        'WCET': C,\n",
    "        'Time-Period': T,\n",
    "        'Pending-Scheduling': C\n",
    "        #'Next-Deadline': T\n",
    "    })\n",
    "    print(\"Given Task-set\\n\"+ \"-\"*80)\n",
    "    print(df.to_string(index=False))\n",
    "    sorted_df = df.sort_values(by=['Time-Period'])\n",
    "    print(\"\\nSorted Task-set according to priority of RMS\\n\"+ \"-\"*80)\n",
    "    sorted_df=sorted_df.assign(Priority=priority)\n",
    "    print(sorted_df.to_string(index=False))\n",
    "    return sorted_df\n",
    "    "
   ]
  },
  {
   "cell_type": "code",
   "execution_count": 5,
   "id": "93fe70ad",
   "metadata": {},
   "outputs": [],
   "source": [
    "def get_task(task_set):\n",
    "    # Filter tasks with non-zero pending execution time\n",
    "    schedulable_tasks = task_set[task_set[\"Pending-Scheduling\"] > 0]\n",
    "    \n",
    "    # If no tasks are schedulable, return None\n",
    "    if schedulable_tasks.empty:\n",
    "        return None\n",
    "    \n",
    "    # Sort tasks by priority (ascending order of period)\n",
    "    sorted_tasks = schedulable_tasks.sort_values(by=[\"Priority\"])\n",
    "    next_task = sorted_tasks.iloc[0]\n",
    "    \n",
    "    return next_task[\"Task-Name\"]\n",
    "    "
   ]
  },
  {
   "cell_type": "code",
   "execution_count": 6,
   "id": "9e49bbf8",
   "metadata": {},
   "outputs": [],
   "source": [
    "def update_task_set(task_set, current_time):\n",
    "    if current_time == 0:\n",
    "        return task_set\n",
    "    for task_name, row in task_set.iterrows():\n",
    "        period = row[\"Time-Period\"]\n",
    "        if current_time % period == 0:\n",
    "            task_set.loc[task_name, \"Pending-Scheduling\"] += row[\"WCET\"]\n",
    "    return task_set"
   ]
  },
  {
   "cell_type": "code",
   "execution_count": 7,
   "id": "dd29f3fa",
   "metadata": {},
   "outputs": [],
   "source": [
    "def gantt_chart(schedule, hyper_period, task_set):\n",
    "    fig, gnt = plt.subplots(figsize=(3*len(set(schedule)), len(set(schedule))))\n",
    "    #gnt.set_ylim(0, len(set(schedule))*10)\n",
    "    gnt.set_xlim(0, hyper_period)\n",
    "    gnt.set_xlabel('Time')\n",
    "    gnt.set_ylabel('Task')\n",
    "    gnt.set_xticks(range(len(schedule)))\n",
    "    gnt.set_xticklabels(range(len(schedule)))\n",
    "    \n",
    "    y_ticks_label = {}\n",
    "    init_val = 5\n",
    "    count=0\n",
    "    deadline_ptr = 1/len(set(schedule))\n",
    "    for task_name, row in task_set.iterrows():\n",
    "        y_ticks_label[row[\"Task-Name\"]] = (init_val + count * len(set(schedule)))\n",
    "        count += 1\n",
    "    \n",
    "    gnt.set_yticks(list(y_ticks_label.values()))\n",
    "    gnt.set_yticklabels(list(y_ticks_label.keys()))\n",
    "    gnt.grid(True, linestyle='--', alpha=0.6)\n",
    "    \n",
    "    task_quantum_time = 1\n",
    "    height = 1\n",
    "    for i, task in enumerate(schedule):\n",
    "        if (task==None):\n",
    "            continue\n",
    "        gnt.broken_barh([(i,task_quantum_time)], (y_ticks_label[task], height))"
   ]
  },
  {
   "cell_type": "code",
   "execution_count": 8,
   "id": "af6b052d",
   "metadata": {},
   "outputs": [],
   "source": [
    "def rate_monotonic_scheduling(C, T):\n",
    "    ret_val = False\n",
    "    if len(C) != len(T):\n",
    "        return print(\"Array size of Worst Case Execution Time (C) and Time Period (T) must be equal.\\n\")\n",
    "    \n",
    "    print(\"Schedulability Test\")\n",
    "    print(\"*\"*40)\n",
    "    \n",
    "    ret_val = schedulability_test(C, T)\n",
    "    if (True == ret_val):\n",
    "        schedule = []\n",
    "        task_set = prepare_tasket(C,T)\n",
    "        hyp_period = compute_hyper_period(T)\n",
    "        print(\"*\"*20)\n",
    "        print(\"Schedule\")\n",
    "        print(\"*\"*20)\n",
    "        for i in range(hyp_period):\n",
    "            task = get_task(task_set)\n",
    "            print(i, task, sep=\"\\t\")\n",
    "            schedule.append(task)\n",
    "            task_set.loc[task_set[\"Task-Name\"] == task, \"Pending-Scheduling\"] -= 1\n",
    "            task_set = update_task_set(task_set,i+1)\n",
    "            #print(task_set.to_string(index=False))\n",
    "        gantt_chart(schedule, hyp_period, task_set)\n",
    "            \n",
    "            "
   ]
  },
  {
   "cell_type": "code",
   "execution_count": 9,
   "id": "74c00cad",
   "metadata": {},
   "outputs": [
    {
     "name": "stdout",
     "output_type": "stream",
     "text": [
      "Schedulability Test\n",
      "****************************************\n",
      "Utilization:  0.85\n",
      "Sufficent condition value:  0.7798\n",
      "Utilization > Sufficient contdition value - Task set may or may not be scheduled without missing the deadline.\n",
      "\n",
      "Given Task-set\n",
      "--------------------------------------------------------------------------------\n",
      "Task-Name  WCET  Time-Period  Pending-Scheduling\n",
      "       T0     2            5                   2\n",
      "       T1     2            8                   2\n",
      "       T2     2           10                   2\n",
      "\n",
      "Sorted Task-set according to priority of RMS\n",
      "--------------------------------------------------------------------------------\n",
      "Task-Name  WCET  Time-Period  Pending-Scheduling  Priority\n",
      "       T0     2            5                   2         1\n",
      "       T1     2            8                   2         2\n",
      "       T2     2           10                   2         3\n",
      "\n",
      "Hyper-Period: 40\n",
      "********************\n",
      "Schedule\n",
      "********************\n",
      "0\tT0\n",
      "1\tT0\n",
      "2\tT1\n",
      "3\tT1\n",
      "4\tT2\n",
      "5\tT0\n",
      "6\tT0\n",
      "7\tT2\n",
      "8\tT1\n",
      "9\tT1\n",
      "10\tT0\n",
      "11\tT0\n",
      "12\tT2\n",
      "13\tT2\n",
      "14\tNone\n",
      "15\tT0\n",
      "16\tT0\n",
      "17\tT1\n",
      "18\tT1\n",
      "19\tNone\n",
      "20\tT0\n",
      "21\tT0\n",
      "22\tT2\n",
      "23\tT2\n",
      "24\tT1\n",
      "25\tT0\n",
      "26\tT0\n",
      "27\tT1\n",
      "28\tNone\n",
      "29\tNone\n",
      "30\tT0\n",
      "31\tT0\n",
      "32\tT1\n",
      "33\tT1\n",
      "34\tT2\n",
      "35\tT0\n",
      "36\tT0\n",
      "37\tT2\n",
      "38\tNone\n",
      "39\tNone\n"
     ]
    },
    {
     "data": {
      "image/png": "[encoded data removed]",
      "text/plain": [
       "<Figure size 864x288 with 1 Axes>"
      ]
     },
     "metadata": {
      "needs_background": "light"
     },
     "output_type": "display_data"
    }
   ],
   "source": [
    "C = [2, 2, 2]\n",
    "T = [5, 8, 10]\n",
    "rate_monotonic_scheduling(C, T)"
   ]
  },
  {
   "cell_type": "code",
   "execution_count": 10,
   "id": "17189e41",
   "metadata": {},
   "outputs": [
    {
     "name": "stdout",
     "output_type": "stream",
     "text": [
      "Schedulability Test\n",
      "****************************************\n",
      "Utilization:  0.9333\n",
      "Sufficent condition value:  0.7798\n",
      "Utilization > Sufficient contdition value - Task set may or may not be scheduled without missing the deadline.\n",
      "\n",
      "Given Task-set\n",
      "--------------------------------------------------------------------------------\n",
      "Task-Name  WCET  Time-Period  Pending-Scheduling\n",
      "       T0     2            5                   2\n",
      "       T1     1            3                   1\n",
      "       T2     2           10                   2\n",
      "\n",
      "Sorted Task-set according to priority of RMS\n",
      "--------------------------------------------------------------------------------\n",
      "Task-Name  WCET  Time-Period  Pending-Scheduling  Priority\n",
      "       T1     1            3                   1         1\n",
      "       T0     2            5                   2         2\n",
      "       T2     2           10                   2         3\n",
      "\n",
      "Hyper-Period: 30\n",
      "********************\n",
      "Schedule\n",
      "********************\n",
      "0\tT1\n",
      "1\tT0\n",
      "2\tT0\n",
      "3\tT1\n",
      "4\tT2\n",
      "5\tT0\n",
      "6\tT1\n",
      "7\tT0\n",
      "8\tT2\n",
      "9\tT1\n",
      "10\tT0\n",
      "11\tT0\n",
      "12\tT1\n",
      "13\tT2\n",
      "14\tT2\n",
      "15\tT1\n",
      "16\tT0\n",
      "17\tT0\n",
      "18\tT1\n",
      "19\tNone\n",
      "20\tT0\n",
      "21\tT1\n",
      "22\tT0\n",
      "23\tT2\n",
      "24\tT1\n",
      "25\tT0\n",
      "26\tT0\n",
      "27\tT1\n",
      "28\tT2\n",
      "29\tNone\n"
     ]
    },
    {
     "data": {
      "image/png": "[encoded data removed]",
      "text/plain": [
       "<Figure size 864x288 with 1 Axes>"
      ]
     },
     "metadata": {
      "needs_background": "light"
     },
     "output_type": "display_data"
    }
   ],
   "source": [
    "C = [2, 1, 2]\n",
    "T = [5, 3, 10]\n",
    "rate_monotonic_scheduling(C, T)"
   ]
  },
  {
   "cell_type": "code",
   "execution_count": 11,
   "id": "a828caef",
   "metadata": {},
   "outputs": [
    {
     "name": "stdout",
     "output_type": "stream",
     "text": [
      "Schedulability Test\n",
      "****************************************\n",
      "Utilization:  0.775\n",
      "Sufficent condition value:  0.8284\n",
      "Sufficient contdition passed: Task set is schedulable.\n",
      "\n",
      "Given Task-set\n",
      "--------------------------------------------------------------------------------\n",
      "Task-Name  WCET  Time-Period  Pending-Scheduling\n",
      "       T0     2            5                   2\n",
      "       T1     3            8                   3\n",
      "\n",
      "Sorted Task-set according to priority of RMS\n",
      "--------------------------------------------------------------------------------\n",
      "Task-Name  WCET  Time-Period  Pending-Scheduling  Priority\n",
      "       T0     2            5                   2         1\n",
      "       T1     3            8                   3         2\n",
      "\n",
      "Hyper-Period: 40\n",
      "********************\n",
      "Schedule\n",
      "********************\n",
      "0\tT0\n",
      "1\tT0\n",
      "2\tT1\n",
      "3\tT1\n",
      "4\tT1\n",
      "5\tT0\n",
      "6\tT0\n",
      "7\tNone\n",
      "8\tT1\n",
      "9\tT1\n",
      "10\tT0\n",
      "11\tT0\n",
      "12\tT1\n",
      "13\tNone\n",
      "14\tNone\n",
      "15\tT0\n",
      "16\tT0\n",
      "17\tT1\n",
      "18\tT1\n",
      "19\tT1\n",
      "20\tT0\n",
      "21\tT0\n",
      "22\tNone\n",
      "23\tNone\n",
      "24\tT1\n",
      "25\tT0\n",
      "26\tT0\n",
      "27\tT1\n",
      "28\tT1\n",
      "29\tNone\n",
      "30\tT0\n",
      "31\tT0\n",
      "32\tT1\n",
      "33\tT1\n",
      "34\tT1\n",
      "35\tT0\n",
      "36\tT0\n",
      "37\tNone\n",
      "38\tNone\n",
      "39\tNone\n"
     ]
    },
    {
     "data": {
      "image/png": "[encoded data removed]",
      "text/plain": [
       "<Figure size 648x216 with 1 Axes>"
      ]
     },
     "metadata": {
      "needs_background": "light"
     },
     "output_type": "display_data"
    }
   ],
   "source": [
    "C = [2, 3]\n",
    "T = [5, 8]\n",
    "rate_monotonic_scheduling(C, T)"
   ]
  }
 ],
 "metadata": {
  "kernelspec": {
   "display_name": "Python 3",
   "language": "python",
   "name": "python3"
  },
  "language_info": {
   "codemirror_mode": {
    "name": "ipython",
    "version": 3
   },
   "file_extension": ".py",
   "mimetype": "text/x-python",
   "name": "python",
   "nbconvert_exporter": "python",
   "pygments_lexer": "ipython3",
   "version": "3.8.8"
  }
 },
 "nbformat": 4,
 "nbformat_minor": 5
}
