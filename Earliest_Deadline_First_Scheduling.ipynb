{
 "cells": [
  {
   "cell_type": "markdown",
   "id": "0627d409",
   "metadata": {},
   "source": [
    "### Earliest Deadline First (EDF) - Dynamic Priority Scheduling Algorithm\n",
    "\n",
    "- Selection Function: \n",
    "    - Earliest Deadline => Highest Priority\n",
    "- Decision Mode:\n",
    "    - Preemtive\n",
    "- Task properties:\n",
    "    - Periodic (T)\n",
    "    - Deadline (D); D = T\n",
    "    - Worst Case Execution Time (C), C <= D\n",
    "    - Tasks are independent\n",
    "    \n",
    "### Schedulability Tests\n",
    "- nSufficient and necessary condition:\n",
    "    - sum(Ci/Ti)<=1"
   ]
  },
  {
   "cell_type": "markdown",
   "id": "7208bb7e",
   "metadata": {},
   "source": [
    "#### Author: Sharath Lokesh"
   ]
  },
  {
   "cell_type": "code",
   "execution_count": 1,
   "id": "eddd4456",
   "metadata": {},
   "outputs": [],
   "source": [
    "# imports\n",
    "import matplotlib.pyplot as plt\n",
    "from math import gcd\n",
    "import pandas as pd"
   ]
  },
  {
   "cell_type": "code",
   "execution_count": 2,
   "id": "fbfb05e6",
   "metadata": {},
   "outputs": [],
   "source": [
    "def compute_hyper_period(T):\n",
    "    \"\"\" This function computes the hyper period of the taskset, i.e. LCM of the time periods.\"\"\"\n",
    "    hyper_period = 1\n",
    "    for t in T:\n",
    "        hyper_period = (hyper_period * t) // gcd(hyper_period, t) #compute LCM\n",
    "    print(\"\\nHyper-Period:\", hyper_period)\n",
    "    return hyper_period"
   ]
  },
  {
   "cell_type": "code",
   "execution_count": 3,
   "id": "419835b9",
   "metadata": {},
   "outputs": [],
   "source": [
    "def schedulability_test(C, T):\n",
    "    \"\"\" Test for EDF scheduliability\"\"\"\n",
    "    ret_val = True\n",
    "    \n",
    "    utilization = 0\n",
    "    for c, t in zip(C, T):\n",
    "        utilization = utilization + (c/t)\n",
    "        \n",
    "    print(\"Utilization: \", round(utilization,4))\n",
    "    if (utilization > 1):\n",
    "        ret_val = False\n",
    "        print(\"Utilization is > 1. Therefore the task set is not schedulable.\\n\")\n",
    "        \n",
    "    else:\n",
    "        print(\"Necessary and sufficient contdition passed: Task set is schedulable.\\n\")\n",
    "        \n",
    "    return ret_val"
   ]
  },
  {
   "cell_type": "code",
   "execution_count": 4,
   "id": "9cec5f02",
   "metadata": {},
   "outputs": [],
   "source": [
    "def prepare_tasket(C, T):\n",
    "    \"\"\" Function to prepare the taskset as pandas data-frame\"\"\"\n",
    "    # create a sample dataframe\n",
    "    task_names = [\"T\"+str(i) for i in range(len(C))]\n",
    "    priority = [i+1 for i in range(len(C))] #fixed priority\n",
    "\n",
    "    #data frame\n",
    "    df = pd.DataFrame({\n",
    "        'Task-Name': task_names,\n",
    "        'WCET': C,\n",
    "        'Time-Period': T,\n",
    "        'Pending-Scheduling': C,\n",
    "        'Deadline': T\n",
    "    })\n",
    "    \n",
    "    print(\"Given Task-set\\n\"+ \"-\"*80)\n",
    "    print(df.to_string(index=False))\n",
    "    \n",
    "    return df"
   ]
  },
  {
   "cell_type": "code",
   "execution_count": 5,
   "id": "38be0266",
   "metadata": {},
   "outputs": [],
   "source": [
    "def get_task(task_set):\n",
    "    \"\"\"Function to get the next schedulable task\"\"\"\n",
    "    # Filter tasks with non-zero pending execution time\n",
    "    schedulable_tasks = task_set[task_set[\"Pending-Scheduling\"] > 0]\n",
    "    \n",
    "    # If no tasks are schedulable, return None\n",
    "    if schedulable_tasks.empty:\n",
    "        return None\n",
    "    \n",
    "    # Sort tasks by priority (high priority - earlisest deadline)\n",
    "    sorted_tasks = schedulable_tasks.sort_values(by=[\"Deadline\"])\n",
    "    next_task = sorted_tasks.iloc[0]\n",
    "    \n",
    "    return next_task[\"Task-Name\"]"
   ]
  },
  {
   "cell_type": "code",
   "execution_count": 6,
   "id": "5d5966a1",
   "metadata": {},
   "outputs": [],
   "source": [
    "def update_task_set(task_set, current_time):\n",
    "    \"\"\"Update the taskset after scheduling a task/ job\"\"\"\n",
    "    \n",
    "    if current_time == 0:\n",
    "        return task_set\n",
    "    # assign the WCET if the task is available (multiple of the task time period) \n",
    "    for task_name, row in task_set.iterrows():\n",
    "        period = row[\"Time-Period\"]\n",
    "        if current_time % period == 0:\n",
    "            task_set.loc[task_name, \"Pending-Scheduling\"] += row[\"WCET\"]\n",
    "    \n",
    "    return task_set"
   ]
  },
  {
   "cell_type": "code",
   "execution_count": 7,
   "id": "ddfb538b",
   "metadata": {},
   "outputs": [],
   "source": [
    "def gantt_chart(schedule, hyper_period, task_set):\n",
    "    \"\"\" Graphical represntation of RMS schedule \"\"\"\n",
    "    fig, gnt = plt.subplots(figsize=(3*len(set(schedule)), len(set(schedule))))\n",
    "    gnt.set_xlim(0, hyper_period)\n",
    "    \n",
    "    gnt.set_xlabel('Time')\n",
    "    gnt.set_ylabel('Task')\n",
    "    gnt.set_xticks(range(len(schedule)+1))\n",
    "    gnt.set_xticklabels(range(len(schedule)+1))\n",
    "    \n",
    "    y_ticks_label = {}\n",
    "    init_val = 5\n",
    "    count=0\n",
    "    deadline_ptr = 1/len(set(schedule))\n",
    "    for tsk, row in task_set.iterrows():\n",
    "        y_ticks_label[row[\"Task-Name\"]] = (init_val + count * len(set(schedule)))\n",
    "        count += 1\n",
    "        \n",
    "        # mark deadlines on gantt chart\n",
    "        task = row[\"Task-Name\"]\n",
    "        for i in range(hyper_period+1):\n",
    "            if ((i%row[\"Time-Period\"]) == 0):\n",
    "                gnt.scatter(i, y_ticks_label[task], marker='o', color='red', alpha = 0.75, linewidths=0.5)\n",
    "                \n",
    "            \n",
    "    \n",
    "    gnt.set_yticks(list(y_ticks_label.values()))\n",
    "    gnt.set_yticklabels(list(y_ticks_label.keys()))\n",
    "    gnt.grid(True, linestyle='--', alpha=0.6)\n",
    "    \n",
    "    task_quantum_time = 1\n",
    "    height = 1\n",
    "    for i, task in enumerate(schedule):\n",
    "        if (task==None):\n",
    "            continue\n",
    "        gnt.broken_barh([(i,task_quantum_time)], (y_ticks_label[task], height))"
   ]
  },
  {
   "cell_type": "code",
   "execution_count": 8,
   "id": "4f445d7c",
   "metadata": {},
   "outputs": [],
   "source": [
    "def earliest_deadline_first_scheduling(C, T):\n",
    "    \"\"\" Implemetation of RMS algortithm \"\"\"\n",
    "    ret_val = False\n",
    "    if len(C) != len(T):\n",
    "        return print(\"Array size of Worst Case Execution Time (C) and Time Period (T) must be equal.\\n\")\n",
    "    \n",
    "    print(\"Schedulability Test\")\n",
    "    print(\"*\"*40)\n",
    "    \n",
    "    ret_val = schedulability_test(C, T)\n",
    "    if (True == ret_val):\n",
    "        schedule = []\n",
    "        task_set = prepare_tasket(C,T)\n",
    "        hyp_period = compute_hyper_period(T)\n",
    "        print(\"*\"*20)\n",
    "        print(\"Schedule\")\n",
    "        print(\"*\"*20)\n",
    "        for i in range(hyp_period):\n",
    "            task = get_task(task_set)\n",
    "            print(i, task, sep=\"\\t\")\n",
    "            schedule.append(task)\n",
    "            task_set.loc[task_set[\"Task-Name\"] == task, \"Pending-Scheduling\"] -= 1\n",
    "            \n",
    "            if (task !=None) and ((task_set.loc[task_set[\"Task-Name\"] == task, \"Pending-Scheduling\"].iloc[0]) == 0):\n",
    "                task_set.loc[task_set[\"Task-Name\"] == task, \"Deadline\"] += task_set.loc[task_set[\"Task-Name\"] == task, \"Time-Period\"]\n",
    "            task_set = update_task_set(task_set,i+1)\n",
    "        gantt_chart(schedule, hyp_period, task_set)"
   ]
  },
  {
   "cell_type": "code",
   "execution_count": 9,
   "id": "52835929",
   "metadata": {},
   "outputs": [
    {
     "name": "stdout",
     "output_type": "stream",
     "text": [
      "Schedulability Test\n",
      "****************************************\n",
      "Utilization:  0.85\n",
      "Necessary and sufficient contdition passed: Task set is schedulable.\n",
      "\n",
      "Given Task-set\n",
      "--------------------------------------------------------------------------------\n",
      "Task-Name  WCET  Time-Period  Pending-Scheduling  Deadline\n",
      "       T0     2            5                   2         5\n",
      "       T1     2            8                   2         8\n",
      "       T2     2           10                   2        10\n",
      "\n",
      "Hyper-Period: 40\n",
      "********************\n",
      "Schedule\n",
      "********************\n",
      "0\tT0\n",
      "1\tT0\n",
      "2\tT1\n",
      "3\tT1\n",
      "4\tT2\n",
      "5\tT0\n",
      "6\tT0\n",
      "7\tT2\n",
      "8\tT1\n",
      "9\tT1\n",
      "10\tT0\n",
      "11\tT0\n",
      "12\tT2\n",
      "13\tT2\n",
      "14\tNone\n",
      "15\tT0\n",
      "16\tT0\n",
      "17\tT1\n",
      "18\tT1\n",
      "19\tNone\n",
      "20\tT0\n",
      "21\tT0\n",
      "22\tT2\n",
      "23\tT2\n",
      "24\tT1\n",
      "25\tT0\n",
      "26\tT0\n",
      "27\tT1\n",
      "28\tNone\n",
      "29\tNone\n",
      "30\tT0\n",
      "31\tT0\n",
      "32\tT1\n",
      "33\tT1\n",
      "34\tT2\n",
      "35\tT0\n",
      "36\tT0\n",
      "37\tT2\n",
      "38\tNone\n",
      "39\tNone\n"
     ]
    },
    {
     "data": {
      "image/png": "[encoded data removed]",
      "text/plain": [
       "<Figure size 864x288 with 1 Axes>"
      ]
     },
     "metadata": {
      "needs_background": "light"
     },
     "output_type": "display_data"
    }
   ],
   "source": [
    "# Example 1\n",
    "C = [2, 2, 2]\n",
    "T = [5, 8, 10]\n",
    "earliest_deadline_first_scheduling(C, T)"
   ]
  },
  {
   "cell_type": "code",
   "execution_count": 10,
   "id": "c11c37af",
   "metadata": {},
   "outputs": [
    {
     "name": "stdout",
     "output_type": "stream",
     "text": [
      "Schedulability Test\n",
      "****************************************\n",
      "Utilization:  0.9333\n",
      "Necessary and sufficient contdition passed: Task set is schedulable.\n",
      "\n",
      "Given Task-set\n",
      "--------------------------------------------------------------------------------\n",
      "Task-Name  WCET  Time-Period  Pending-Scheduling  Deadline\n",
      "       T0     2            5                   2         5\n",
      "       T1     1            3                   1         3\n",
      "       T2     2           10                   2        10\n",
      "\n",
      "Hyper-Period: 30\n",
      "********************\n",
      "Schedule\n",
      "********************\n",
      "0\tT1\n",
      "1\tT0\n",
      "2\tT0\n",
      "3\tT1\n",
      "4\tT2\n",
      "5\tT0\n",
      "6\tT1\n",
      "7\tT0\n",
      "8\tT2\n",
      "9\tT1\n",
      "10\tT0\n",
      "11\tT0\n",
      "12\tT1\n",
      "13\tT2\n",
      "14\tT2\n",
      "15\tT1\n",
      "16\tT0\n",
      "17\tT0\n",
      "18\tT1\n",
      "19\tNone\n",
      "20\tT0\n",
      "21\tT1\n",
      "22\tT0\n",
      "23\tT2\n",
      "24\tT1\n",
      "25\tT0\n",
      "26\tT0\n",
      "27\tT1\n",
      "28\tT2\n",
      "29\tNone\n"
     ]
    },
    {
     "data": {
      "image/png": "[encoded data removed]",
      "text/plain": [
       "<Figure size 864x288 with 1 Axes>"
      ]
     },
     "metadata": {
      "needs_background": "light"
     },
     "output_type": "display_data"
    }
   ],
   "source": [
    "# Example 2\n",
    "C = [2, 1, 2]\n",
    "T = [5, 3, 10]\n",
    "earliest_deadline_first_scheduling(C, T)"
   ]
  },
  {
   "cell_type": "code",
   "execution_count": 11,
   "id": "189f30a5",
   "metadata": {},
   "outputs": [
    {
     "name": "stdout",
     "output_type": "stream",
     "text": [
      "Schedulability Test\n",
      "****************************************\n",
      "Utilization:  0.775\n",
      "Necessary and sufficient contdition passed: Task set is schedulable.\n",
      "\n",
      "Given Task-set\n",
      "--------------------------------------------------------------------------------\n",
      "Task-Name  WCET  Time-Period  Pending-Scheduling  Deadline\n",
      "       T0     2            5                   2         5\n",
      "       T1     3            8                   3         8\n",
      "\n",
      "Hyper-Period: 40\n",
      "********************\n",
      "Schedule\n",
      "********************\n",
      "0\tT0\n",
      "1\tT0\n",
      "2\tT1\n",
      "3\tT1\n",
      "4\tT1\n",
      "5\tT0\n",
      "6\tT0\n",
      "7\tNone\n",
      "8\tT1\n",
      "9\tT1\n",
      "10\tT0\n",
      "11\tT0\n",
      "12\tT1\n",
      "13\tNone\n",
      "14\tNone\n",
      "15\tT0\n",
      "16\tT0\n",
      "17\tT1\n",
      "18\tT1\n",
      "19\tT1\n",
      "20\tT0\n",
      "21\tT0\n",
      "22\tNone\n",
      "23\tNone\n",
      "24\tT1\n",
      "25\tT0\n",
      "26\tT0\n",
      "27\tT1\n",
      "28\tT1\n",
      "29\tNone\n",
      "30\tT0\n",
      "31\tT0\n",
      "32\tT1\n",
      "33\tT1\n",
      "34\tT1\n",
      "35\tT0\n",
      "36\tT0\n",
      "37\tNone\n",
      "38\tNone\n",
      "39\tNone\n"
     ]
    },
    {
     "data": {
      "image/png": "[encoded data removed]",
      "text/plain": [
       "<Figure size 648x216 with 1 Axes>"
      ]
     },
     "metadata": {
      "needs_background": "light"
     },
     "output_type": "display_data"
    }
   ],
   "source": [
    "# Example 3\n",
    "C = [2, 3]\n",
    "T = [5, 8]\n",
    "earliest_deadline_first_scheduling(C, T)"
   ]
  },
  {
   "cell_type": "code",
   "execution_count": null,
   "id": "1244c536",
   "metadata": {},
   "outputs": [],
   "source": []
  }
 ],
 "metadata": {
  "kernelspec": {
   "display_name": "Python 3",
   "language": "python",
   "name": "python3"
  },
  "language_info": {
   "codemirror_mode": {
    "name": "ipython",
    "version": 3
   },
   "file_extension": ".py",
   "mimetype": "text/x-python",
   "name": "python",
   "nbconvert_exporter": "python",
   "pygments_lexer": "ipython3",
   "version": "3.8.8"
  }
 },
 "nbformat": 4,
 "nbformat_minor": 5
}
